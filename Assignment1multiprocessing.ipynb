{
 "cells": [
  {
   "cell_type": "code",
   "execution_count": 1,
   "id": "e5e100e8-765a-4a69-8fd8-268482d69cfa",
   "metadata": {},
   "outputs": [],
   "source": [
    "#Q1"
   ]
  },
  {
   "cell_type": "markdown",
   "id": "e246223d-a637-49c8-a178-6d0ff47fab82",
   "metadata": {},
   "source": [
    "Multiprocessing in Python is a module that allows you to create multiple processes, each with its own Python interpreter, to run concurrently. It is used to leverage the capabilities of multi-core processors and perform parallel processing. Multiprocessing is part of the Python standard library and provides a high-level interface for creating and managing processes."
   ]
  },
  {
   "cell_type": "markdown",
   "id": "bc8caf91-fae8-4c6d-a1db-02ff0c6b0a2d",
   "metadata": {},
   "source": [
    "Here are some key features and benefits of using multiprocessing in Python:\n",
    "\n",
    "Parallelism: Multiprocessing enables true parallelism, where multiple processes execute tasks simultaneously. This is particularly useful for CPU-bound tasks that can benefit from utilizing multiple processor cores.\n",
    "\n",
    "Isolation: Each process runs in its own separate memory space and Python interpreter. This isolation ensures that data and resources are not shared by default, reducing the risk of data corruption or interference between processes.\n",
    "\n",
    "Improved Performance: For CPU-bound tasks, multiprocessing can significantly improve performance by distributing the workload across multiple processes. Each process can work on a different subset of the problem, speeding up the overall computation.\n",
    "\n",
    "Simplicity: Multiprocessing provides a high-level API that is relatively easy to use. You can create processes, communicate between them, and manage their execution with straightforward Python code.\n",
    "\n",
    "Fault Tolerance: Since each process runs independently, errors or crashes in one process are less likely to affect other processes. This can enhance the robustness of applications.\n",
    "\n",
    "Resource Utilization: Multiprocessing can take advantage of available CPU cores efficiently, making it suitable for tasks that require high computational power.\n",
    "\n",
    "Scalability: It allows you to scale your application's performance by adding more processes as needed. This makes it suitable for various applications, from simple parallelism to complex distributed computing.\n",
    "\n",
    "Compatibility: Multiprocessing is part of the Python standard library, so you don't need to install third-party packages to use it. It is available on most Python installations."
   ]
  },
  {
   "cell_type": "code",
   "execution_count": 2,
   "id": "5c106114-a68a-45d4-b07b-72da8b4ddde0",
   "metadata": {},
   "outputs": [
    {
     "name": "stdout",
     "output_type": "stream",
     "text": [
      "Squared Results: [1, 4, 9, 16, 25]\n"
     ]
    }
   ],
   "source": [
    "import multiprocessing\n",
    "\n",
    "def square(x):\n",
    "    return x*x\n",
    "if __name__ ==\"__main__\":\n",
    "    data =[1,2,3,4,5]\n",
    "    \n",
    "    with multiprocessing.Pool(processes=4) as pool:\n",
    "        results =pool.map(square,data)\n",
    "        \n",
    "    print(\"Squared Results:\" ,results)"
   ]
  },
  {
   "cell_type": "code",
   "execution_count": null,
   "id": "1ac6d5b2-c72a-4686-b31b-d547fc344715",
   "metadata": {},
   "outputs": [],
   "source": [
    "#Q2"
   ]
  },
  {
   "cell_type": "markdown",
   "id": "4fa5ff81-8dd7-4ae3-b6f8-e97f893616f3",
   "metadata": {},
   "source": [
    "Multiprocessing and multithreading are both techniques for achieving concurrent execution in a program, but they differ in several key ways. Here are the main differences between multiprocessing and multithreading in Python:"
   ]
  },
  {
   "cell_type": "markdown",
   "id": "7bbc8a8f-e1ad-48f3-95dd-507c75a207a8",
   "metadata": {},
   "source": [
    "Processes vs. Threads:\n",
    "\n",
    "Multiprocessing: In multiprocessing, separate processes are created, and each process has its own memory space and Python interpreter. Processes run independently and do not share memory by default. They communicate via inter-process communication (IPC) mechanisms like pipes, queues, and shared memory.\n",
    "\n",
    "Multithreading: In multithreading, multiple threads are created within a single process, and they share the same memory space and Python interpreter. Threads within the same process can easily share data and resources."
   ]
  },
  {
   "cell_type": "markdown",
   "id": "b1404e9f-5c89-4435-a4de-6959a6a60733",
   "metadata": {},
   "source": [
    "Parallelism:\n",
    "\n",
    "Multiprocessing: Multiprocessing achieves true parallelism by utilizing multiple CPU cores. Each process runs independently, taking full advantage of available CPU resources.\n",
    "\n",
    "Multithreading: Multithreading can achieve concurrency but not necessarily parallelism. In Python, due to the Global Interpreter Lock (GIL), only one thread can execute Python bytecode at a time, limiting true parallel execution of CPU-bound tasks. However, it can still provide parallelism for I/O-bound tasks and tasks that release the GIL (e.g., some C extensions)."
   ]
  },
  {
   "cell_type": "markdown",
   "id": "b6ec2037-7226-4349-a548-533425936c47",
   "metadata": {},
   "source": [
    "Memory Overhead:\n",
    "\n",
    "Multiprocessing: Creating separate processes incurs more memory overhead because each process has its own memory space.\n",
    "\n",
    "Multithreading: Threads within the same process share memory, resulting in less memory overhead compared to multiprocessing."
   ]
  },
  {
   "cell_type": "markdown",
   "id": "3a10a651-d85d-49ea-b97f-2aa1ce1d246a",
   "metadata": {},
   "source": [
    "Synchronization:\n",
    "\n",
    "Multiprocessing: Processes do not share memory by default, so synchronization mechanisms (e.g., locks, semaphores) must be explicitly used to coordinate access to shared resources.\n",
    "\n",
    "Multithreading: Threads share memory by default, which can simplify synchronization for data sharing but also introduces the potential for race conditions and other concurrency issues. Synchronization mechanisms are still necessary."
   ]
  },
  {
   "cell_type": "markdown",
   "id": "016133a5-bcb0-42e3-9bb6-60226274419e",
   "metadata": {},
   "source": [
    "Fault Tolerance:\n",
    "\n",
    "Multiprocessing: If one process crashes or encounters an error, it typically does not affect other processes since they run independently.\n",
    "\n",
    "Multithreading: If one thread encounters an unhandled exception, it may lead to the termination of the entire process, affecting all threads within it."
   ]
  },
  {
   "cell_type": "markdown",
   "id": "ff47d020-de85-4789-a2bd-2fe2a00945a6",
   "metadata": {},
   "source": [
    "Platform Independence:\n",
    "\n",
    "Multiprocessing: Multiprocessing is generally more platform-independent, as it relies on separate processes with their own interpreters.\n",
    "\n",
    "Multithreading: Multithreading behavior can vary across different platforms due to differences in thread management by the operating system."
   ]
  },
  {
   "cell_type": "code",
   "execution_count": null,
   "id": "80ecc582-0d14-4223-a528-b4d9dfc87aff",
   "metadata": {},
   "outputs": [],
   "source": [
    "#Q3"
   ]
  },
  {
   "cell_type": "code",
   "execution_count": 6,
   "id": "80e80d9e-db3f-42c2-bc30-5681a865b38c",
   "metadata": {},
   "outputs": [
    {
     "name": "stdout",
     "output_type": "stream",
     "text": [
      "Main process has finished\n"
     ]
    }
   ],
   "source": [
    "import multiprocessing\n",
    "\n",
    "def worker_function():\n",
    "    print(\"Worker process is executing\")\n",
    "    \n",
    "if __name__ == \"__main_\":\n",
    "    process=multiprocessing.Process(target=worker_function)\n",
    "    \n",
    "    process.start()\n",
    "\n",
    "    process.join()\n",
    "    \n",
    "print(\"Main process has finished\")"
   ]
  },
  {
   "cell_type": "code",
   "execution_count": null,
   "id": "1d773342-cad4-40da-987f-63ea324cdf2a",
   "metadata": {},
   "outputs": [],
   "source": [
    "#Q4"
   ]
  },
  {
   "cell_type": "markdown",
   "id": "2a3ec11d-ce4d-4add-9810-d568cc948d8f",
   "metadata": {},
   "source": [
    "In Python, a multiprocessing pool, provided by the multiprocessing module, is a high-level construct that simplifies parallel processing by managing a pool of worker processes. It allows you to distribute tasks to multiple worker processes, parallelize the execution of these tasks, and collect the results efficiently. The primary class for creating a multiprocessing pool is multiprocessing.Pool."
   ]
  },
  {
   "cell_type": "code",
   "execution_count": 3,
   "id": "9befa9bd-2929-4c83-aa50-135845a4a9bf",
   "metadata": {},
   "outputs": [
    {
     "name": "stdout",
     "output_type": "stream",
     "text": [
      "Factorial of 5: 120\n",
      "Factorial of 10: 3628800\n",
      "Factorial of 15: 1307674368000\n",
      "Factorial of 20: 2432902008176640000\n",
      "Factorial of 25: 15511210043330985984000000\n"
     ]
    }
   ],
   "source": [
    "import multiprocessing\n",
    "\n",
    "def factorial(n):\n",
    "    if n == 0:\n",
    "        return 1\n",
    "    else:\n",
    "        result = 1\n",
    "        for i in range(1, n + 1):\n",
    "            result *= i\n",
    "        return result\n",
    "\n",
    "if __name__ == \"__main__\":\n",
    "    numbers = [5, 10, 15, 20, 25]\n",
    "\n",
    "    with multiprocessing.Pool() as pool:\n",
    "        results = pool.map(factorial, numbers)\n",
    "\n",
    "    for n, result in zip(numbers, results):\n",
    "        print(f\"Factorial of {n}: {result}\")\n"
   ]
  },
  {
   "cell_type": "code",
   "execution_count": null,
   "id": "66eec9bc-790f-41d0-bd35-9d52b8482804",
   "metadata": {},
   "outputs": [],
   "source": [
    "#Q5"
   ]
  },
  {
   "cell_type": "code",
   "execution_count": 13,
   "id": "92be6fb7-3bbd-4a1f-b27b-c9eeea856fae",
   "metadata": {},
   "outputs": [
    {
     "name": "stdout",
     "output_type": "stream",
     "text": [
      "Result 1: 25\n",
      "Result 2: 100\n",
      "Result 3: 225\n"
     ]
    }
   ],
   "source": [
    "import multiprocessing\n",
    "\n",
    "def worker_function(x):\n",
    "    return x * x\n",
    "\n",
    "if __name__ == \"__main__\":\n",
    "    with multiprocessing.Pool(processes=4) as pool:\n",
    "        \n",
    "        result1=pool.apply(worker_function, args=(5,))\n",
    "        result2=pool.apply(worker_function, args=(10,))\n",
    "        result3=pool.apply(worker_function, args=(15,))\n",
    "        \n",
    "    print(\"Result 1:\", result1)\n",
    "    print(\"Result 2:\", result2)\n",
    "    print(\"Result 3:\", result3)"
   ]
  },
  {
   "cell_type": "code",
   "execution_count": null,
   "id": "81986c86-b3c2-487b-be92-20ea4a06034f",
   "metadata": {},
   "outputs": [],
   "source": [
    "#Q6"
   ]
  },
  {
   "cell_type": "code",
   "execution_count": 18,
   "id": "7b1a015c-50d9-439a-967d-dc84844cf5cd",
   "metadata": {},
   "outputs": [
    {
     "name": "stdout",
     "output_type": "stream",
     "text": [
      "process1: 1process2: 2process3: 3process4: 4\n",
      "\n",
      "\n",
      "\n"
     ]
    }
   ],
   "source": [
    "import multiprocessing\n",
    "\n",
    "def print_number(number):\n",
    "    print(f\"process{number}: {number}\")\n",
    "     \n",
    "if __name__== \"__main__\":\n",
    "    numbers = [1,2,3,4]\n",
    "    with multiprocessing.Pool(processes=4) as pool:\n",
    "        pool.map(print_number, numbers)\n",
    "        "
   ]
  }
 ],
 "metadata": {
  "kernelspec": {
   "display_name": "Python 3 (ipykernel)",
   "language": "python",
   "name": "python3"
  },
  "language_info": {
   "codemirror_mode": {
    "name": "ipython",
    "version": 3
   },
   "file_extension": ".py",
   "mimetype": "text/x-python",
   "name": "python",
   "nbconvert_exporter": "python",
   "pygments_lexer": "ipython3",
   "version": "3.10.8"
  }
 },
 "nbformat": 4,
 "nbformat_minor": 5
}
